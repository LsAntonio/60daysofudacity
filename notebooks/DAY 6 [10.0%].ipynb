{
 "cells": [
  {
   "cell_type": "markdown",
   "metadata": {},
   "source": [
    "# DAY 6 [10.0%] | 60"
   ]
  },
  {
   "cell_type": "code",
   "execution_count": 199,
   "metadata": {},
   "outputs": [
    {
     "data": {
      "text/plain": [
       "<torch._C.Generator at 0x7f3955c166f0>"
      ]
     },
     "execution_count": 199,
     "metadata": {},
     "output_type": "execute_result"
    }
   ],
   "source": [
    "import torch\n",
    "torch.manual_seed(0)"
   ]
  },
  {
   "cell_type": "code",
   "execution_count": 200,
   "metadata": {},
   "outputs": [],
   "source": [
    "def create_databases(p, num_entries, num_databases):\n",
    "    \"\"\"\n",
    "    This function create a number of databases from db,\n",
    "    where each new database has one missing row (element).\n",
    "    \n",
    "    params:\n",
    "    ------\n",
    "    \n",
    "    p             -- Probability for the database.\n",
    "    num_entries   -- Number of entries in the original db.\n",
    "    num_databases -- Number of database to create.\n",
    "    \n",
    "    returns\n",
    "    -------\n",
    "    num_databases\n",
    "    \"\"\"\n",
    "    assert num_entries == num_databases, 'Total entries {} different from total DB {}'.format(num_entries, num_databases)\n",
    "    databases = []\n",
    "    db = torch.rand(num_entries) > p\n",
    "    for k in range(0, num_databases):\n",
    "        databases.append(torch.cat([db[:k], db[k+1:]]))\n",
    "    return db, databases"
   ]
  },
  {
   "cell_type": "code",
   "execution_count": 201,
   "metadata": {},
   "outputs": [],
   "source": [
    "def create_db_and_parallels(p, num_entries):\n",
    "    \"\"\"\n",
    "    Final function, which creates a db and parallels databases,\n",
    "    using the function defined above.\n",
    "    \n",
    "    params:\n",
    "    ------\n",
    "    p            -- Data probability distribution.\n",
    "    num_entries  -- Number of rows|samples.\n",
    "    \n",
    "    returns:\n",
    "    -------\n",
    "    db           -- Original database.\n",
    "    databases    -- List of databases.\n",
    "    \"\"\"\n",
    "    db, databases = create_databases(p, num_entries, num_entries)\n",
    "    return db, databases"
   ]
  },
  {
   "cell_type": "code",
   "execution_count": 202,
   "metadata": {},
   "outputs": [],
   "source": [
    "def mean_query(db):\n",
    "    \"\"\"\n",
    "    Appy the mean query over the db.\n",
    "    \n",
    "    params:\n",
    "    ------\n",
    "    \n",
    "    db     -- Database.\n",
    "    \n",
    "    returns:\n",
    "    -------\n",
    "    Mean.\n",
    "    \"\"\"\n",
    "    return db.float().mean()"
   ]
  },
  {
   "cell_type": "code",
   "execution_count": 203,
   "metadata": {},
   "outputs": [],
   "source": [
    "def query(db):\n",
    "    \"\"\"\n",
    "    Apply a sum query over the database.\n",
    "    \n",
    "    params:\n",
    "    ------\n",
    "    db      -- A db containing a single feature.\n",
    "    returns:\n",
    "    -------\n",
    "    Application of the sum query.\n",
    "    \"\"\"\n",
    "    return db.sum()"
   ]
  },
  {
   "cell_type": "code",
   "execution_count": 204,
   "metadata": {},
   "outputs": [],
   "source": [
    "def sensitivity(query, n_entries):\n",
    "    \"\"\"\n",
    "    Calculates the sensitivity of a database.\n",
    "    \n",
    "    params:\n",
    "    ------\n",
    "    query      -- A query function.\n",
    "    n_entries  -- Total entries in the db.\n",
    "    \n",
    "    returns:\n",
    "    -------\n",
    "    Sensitivity\n",
    "    \"\"\"\n",
    "    # Initialize a database and parallel databases\n",
    "    db, databases = create_db_and_parallels(0.5, n_entries)\n",
    "    # run query over the original db\n",
    "    full_query_db = query(db)\n",
    "    # run query over the databases\n",
    "    sensitivity = 0\n",
    "    \n",
    "    for pdb in databases:\n",
    "        pbd_result = query(pdb)\n",
    "        db_distance = torch.abs(pbd_result - full_query_db) #L1 sensitity\n",
    "        if db_distance > sensitivity:\n",
    "            sensitivity = db_distance\n",
    "    return sensitivity"
   ]
  },
  {
   "cell_type": "code",
   "execution_count": 205,
   "metadata": {},
   "outputs": [
    {
     "name": "stdout",
     "output_type": "stream",
     "text": [
      "tensor(0.0005)\n"
     ]
    }
   ],
   "source": [
    "# evaluate the sensitivity of the mean query over 1000 samples\n",
    "print(sensitivity(mean_query, 1000))"
   ]
  },
  {
   "cell_type": "code",
   "execution_count": 206,
   "metadata": {},
   "outputs": [
    {
     "name": "stdout",
     "output_type": "stream",
     "text": [
      "tensor(1)\n"
     ]
    }
   ],
   "source": [
    "# evaluate the sensitivity of the sum query over 5000 samples\n",
    "print(sensitivity(query, 5000))"
   ]
  },
  {
   "cell_type": "code",
   "execution_count": 207,
   "metadata": {},
   "outputs": [],
   "source": [
    "def threshold_query(db, threshold = 5):\n",
    "    \"\"\"\n",
    "    Apply a threshold query over the db.\n",
    "    \n",
    "    params:\n",
    "    ------\n",
    "    db         -- Database.\n",
    "    threshold  -- Set to 5.\n",
    "    \"\"\"\n",
    "    # You need to cast this to float db.sum() > threshold\n",
    "    # otherwise it will recieve only binary values.\n",
    "    return (db.sum() > threshold).float()"
   ]
  },
  {
   "cell_type": "code",
   "execution_count": 224,
   "metadata": {},
   "outputs": [],
   "source": [
    "def new_sensitivity(query, n_entries):\n",
    "    # Initialize a database and parallel databases\n",
    "    db, databases = create_db_and_parallels(0.5, n_entries)\n",
    "    # run query over the original db\n",
    "    full_query_db = query(db)\n",
    "    # run query over the databases\n",
    "    sensitivity = 0\n",
    "    for index, pdb in enumerate(databases):\n",
    "        pbd_result = query(pdb)\n",
    "        db_distance = torch.abs(pbd_result - full_query_db) #L1 sensitity\n",
    "        if db_distance > sensitivity:\n",
    "            sensitivity = db_distance\n",
    "        print('For pdb {}, the sensitivity is {}'.format(index + 1, sensitivity))\n",
    "    return sensitivity"
   ]
  },
  {
   "cell_type": "code",
   "execution_count": 233,
   "metadata": {},
   "outputs": [
    {
     "name": "stdout",
     "output_type": "stream",
     "text": [
      "For pdb 1, the sensitivity is 0\n",
      "For pdb 2, the sensitivity is 1.0\n",
      "For pdb 3, the sensitivity is 1.0\n",
      "For pdb 4, the sensitivity is 1.0\n",
      "For pdb 5, the sensitivity is 1.0\n",
      "For pdb 6, the sensitivity is 1.0\n",
      "For pdb 7, the sensitivity is 1.0\n",
      "For pdb 8, the sensitivity is 1.0\n",
      "For pdb 9, the sensitivity is 1.0\n",
      "For pdb 10, the sensitivity is 1.0\n",
      "tensor(1.)\n"
     ]
    }
   ],
   "source": [
    "print(new_sensitivity(threshold_query, 10))"
   ]
  },
  {
   "cell_type": "code",
   "execution_count": 234,
   "metadata": {},
   "outputs": [],
   "source": [
    "# We obtain different results each time due to the random nature of the database."
   ]
  },
  {
   "cell_type": "markdown",
   "metadata": {},
   "source": [
    "## Project: Basic Differencing Attack"
   ]
  },
  {
   "cell_type": "code",
   "execution_count": 243,
   "metadata": {},
   "outputs": [],
   "source": [
    "db, _ = create_db_and_parallels(0.5, 100)"
   ]
  },
  {
   "cell_type": "code",
   "execution_count": 244,
   "metadata": {},
   "outputs": [],
   "source": [
    "def get_parallel_db(db, remove_index = 10):\n",
    "    return torch.cat([db[:remove_index], db[remove_index+1:]])"
   ]
  },
  {
   "cell_type": "code",
   "execution_count": 245,
   "metadata": {},
   "outputs": [],
   "source": [
    "pdb = get_parallel_db(db, remove_index = 10)"
   ]
  },
  {
   "cell_type": "code",
   "execution_count": 246,
   "metadata": {},
   "outputs": [
    {
     "data": {
      "text/plain": [
       "tensor(1, dtype=torch.uint8)"
      ]
     },
     "execution_count": 246,
     "metadata": {},
     "output_type": "execute_result"
    }
   ],
   "source": [
    "db[10]"
   ]
  },
  {
   "cell_type": "code",
   "execution_count": 247,
   "metadata": {},
   "outputs": [
    {
     "data": {
      "text/plain": [
       "tensor([0, 1, 1, 0, 1, 0, 0, 1, 0, 0, 1, 0, 1, 1, 0, 0, 0, 0, 0, 1, 1, 1, 0, 1,\n",
       "        1, 1, 1, 0, 1, 0, 1, 0, 1, 1, 0, 0, 1, 0, 0, 0, 1, 0, 0, 0, 1, 1, 1, 0,\n",
       "        0, 1, 1, 1, 0, 0, 1, 1, 1, 0, 1, 1, 0, 0, 1, 0, 0, 0, 1, 1, 1, 0, 0, 0,\n",
       "        0, 1, 0, 0, 1, 1, 0, 0, 1, 1, 0, 0, 0, 1, 0, 0, 1, 1, 0, 1, 0, 0, 0, 1,\n",
       "        0, 0, 1], dtype=torch.uint8)"
      ]
     },
     "execution_count": 247,
     "metadata": {},
     "output_type": "execute_result"
    }
   ],
   "source": [
    "pdb"
   ]
  },
  {
   "cell_type": "code",
   "execution_count": 248,
   "metadata": {},
   "outputs": [
    {
     "data": {
      "text/plain": [
       "tensor(1, dtype=torch.uint8)"
      ]
     },
     "execution_count": 248,
     "metadata": {},
     "output_type": "execute_result"
    }
   ],
   "source": [
    "# differencing attack using sum\n",
    "sum(db) - sum(pdb)"
   ]
  },
  {
   "cell_type": "code",
   "execution_count": 249,
   "metadata": {},
   "outputs": [
    {
     "data": {
      "text/plain": [
       "tensor(0.0054)"
      ]
     },
     "execution_count": 249,
     "metadata": {},
     "output_type": "execute_result"
    }
   ],
   "source": [
    "# differencing attack using mean query\n",
    "(sum(db).float()/len(db)) - (sum(pdb).float() / len(pdb))"
   ]
  },
  {
   "cell_type": "code",
   "execution_count": 250,
   "metadata": {},
   "outputs": [
    {
     "data": {
      "text/plain": [
       "tensor(47, dtype=torch.uint8)"
      ]
     },
     "execution_count": 250,
     "metadata": {},
     "output_type": "execute_result"
    }
   ],
   "source": [
    "sum(db)"
   ]
  },
  {
   "cell_type": "code",
   "execution_count": 251,
   "metadata": {},
   "outputs": [
    {
     "data": {
      "text/plain": [
       "tensor(1, dtype=torch.uint8)"
      ]
     },
     "execution_count": 251,
     "metadata": {},
     "output_type": "execute_result"
    }
   ],
   "source": [
    "# differencing attack using mean query\n",
    "(sum(db).float() > 46) - (sum(pdb).float() > 46)"
   ]
  },
  {
   "cell_type": "code",
   "execution_count": null,
   "metadata": {},
   "outputs": [],
   "source": []
  }
 ],
 "metadata": {
  "kernelspec": {
   "display_name": "Python 3",
   "language": "python",
   "name": "python3"
  },
  "language_info": {
   "codemirror_mode": {
    "name": "ipython",
    "version": 3
   },
   "file_extension": ".py",
   "mimetype": "text/x-python",
   "name": "python",
   "nbconvert_exporter": "python",
   "pygments_lexer": "ipython3",
   "version": "3.7.2"
  }
 },
 "nbformat": 4,
 "nbformat_minor": 2
}
