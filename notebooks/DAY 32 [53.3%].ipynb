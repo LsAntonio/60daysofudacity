{
 "cells": [
  {
   "cell_type": "markdown",
   "metadata": {},
   "source": [
    "# Project: Generating Differentially Private Labels for the Digits data set"
   ]
  },
  {
   "cell_type": "markdown",
   "metadata": {},
   "source": [
    "As we seen in the lectures, we can use the predictions from others classifiers to approximate the labels on our own data set (assuming it is unlabeled). This mechanism will allow us to guarantee the privacy safety from the individuals on the external data sets. However, this method could potentially leak some information if one individual have its data overlapped with more than two external data sets. In this project we will simulate this setting."
   ]
  },
  {
   "cell_type": "markdown",
   "metadata": {},
   "source": [
    "## Libraries"
   ]
  },
  {
   "cell_type": "code",
   "execution_count": 1,
   "metadata": {},
   "outputs": [
    {
     "data": {
      "text/plain": [
       "<torch._C.Generator at 0x7fcf015658d0>"
      ]
     },
     "execution_count": 1,
     "metadata": {},
     "output_type": "execute_result"
    }
   ],
   "source": [
    "from helper_01 import *\n",
    "import warnings\n",
    "from sklearn.metrics import accuracy_score\n",
    "import numpy as np\n",
    "import torch\n",
    "import torch.nn as nn\n",
    "import torch.nn.functional as F\n",
    "import torch.optim as optim\n",
    "import matplotlib.pyplot as plt\n",
    "import seaborn as sns\n",
    "warnings.filterwarnings('ignore')\n",
    "sns.set()\n",
    "np.random.seed(5)\n",
    "torch.manual_seed(5)"
   ]
  },
  {
   "cell_type": "markdown",
   "metadata": {},
   "source": [
    "# Phase One: The data set"
   ]
  },
  {
   "cell_type": "markdown",
   "metadata": {},
   "source": [
    "For the data set, we will use the digits data. This data set will be randomly divided into eleven subsets. The first ten will be used to train the classifiers. The remaining one will be used to train our pytorh model."
   ]
  },
  {
   "cell_type": "markdown",
   "metadata": {},
   "source": [
    "## Data generation"
   ]
  },
  {
   "cell_type": "code",
   "execution_count": 2,
   "metadata": {},
   "outputs": [],
   "source": [
    "# creates the remote data sets.\n",
    "remote_datasets, X, y_true = generate_data(shuffle = True)"
   ]
  },
  {
   "cell_type": "code",
   "execution_count": 2,
   "metadata": {},
   "outputs": [],
   "source": [
    "# creates the remote data sets.\n",
    "remote_datasets, X, y_true = generate_data(shuffle = True)"
   ]
  },
  {
   "cell_type": "code",
   "execution_count": 3,
   "metadata": {},
   "outputs": [
    {
     "data": {
      "text/plain": [
       "{'data': array([[ 0.,  0.,  2., ...,  0.,  0.,  0.],\n",
       "        [ 0.,  0.,  1., ...,  6.,  0.,  0.],\n",
       "        [ 0.,  0.,  0., ..., 15.,  7.,  0.],\n",
       "        ...,\n",
       "        [ 0.,  0.,  4., ...,  7.,  0.,  0.],\n",
       "        [ 0.,  1., 11., ..., 10.,  0.,  0.],\n",
       "        [ 0.,  0.,  0., ...,  0.,  0.,  0.]]),\n",
       " 'labels': array([7, 0, 9, 0, 6, 2, 2, 5, 7, 5, 9, 1, 6, 0, 4, 2, 9, 0, 3, 9, 3, 9,\n",
       "        0, 1, 8, 2, 3, 8, 9, 6, 4, 4, 1, 5, 5, 9, 4, 0, 9, 1, 2, 6, 2, 7,\n",
       "        5, 1, 7, 6, 6, 8, 2, 7, 3, 0, 0, 2, 1, 9, 8, 6, 7, 9, 1, 5, 0, 9,\n",
       "        3, 6, 3, 0, 7, 4, 5, 6, 4, 6, 5, 9, 8, 9, 8, 9, 5, 2, 4, 7, 9, 1,\n",
       "        7, 5, 9, 7, 4, 3, 2, 1, 3, 2, 0, 0, 8, 7, 2, 7, 2, 4, 9, 2, 7, 0,\n",
       "        0, 5, 4, 5, 5, 8, 7, 9, 5, 4, 9, 0, 9, 9, 7, 6, 5, 6, 9, 9, 6, 2,\n",
       "        8, 9, 6, 0, 2, 9, 1, 4, 7, 4, 5, 6, 5, 2, 0, 6, 1, 8, 7, 3, 1, 4,\n",
       "        8, 0, 3, 4, 4, 9, 0, 3, 4])}"
      ]
     },
     "execution_count": 3,
     "metadata": {},
     "output_type": "execute_result"
    }
   ],
   "source": [
    "remote_datasets[9]"
   ]
  },
  {
   "cell_type": "markdown",
   "metadata": {},
   "source": [
    "## Plots"
   ]
  },
  {
   "cell_type": "markdown",
   "metadata": {},
   "source": [
    "Now we will plot some samples from the data set."
   ]
  },
  {
   "cell_type": "code",
   "execution_count": 6,
   "metadata": {},
   "outputs": [
    {
     "data": {
      "image/png": "[encoded data removed]",
      "text/plain": [
       "<Figure size 1080x360 with 10 Axes>"
      ]
     },
     "metadata": {
      "needs_background": "light"
     },
     "output_type": "display_data"
    }
   ],
   "source": [
    "plot_digits(X, y_true)"
   ]
  },
  {
   "cell_type": "markdown",
   "metadata": {},
   "source": [
    "# Phase Two: Training external classifiers"
   ]
  },
  {
   "cell_type": "markdown",
   "metadata": {},
   "source": [
    "Next, we train ten classifiers in each data subset. As we can see almost all the classifiers get a higher accuracy, except Ada Boost. This can be improved, however, to maintain results reproducible, we let the classifiers with a default set of configurations."
   ]
  },
  {
   "cell_type": "code",
   "execution_count": 8,
   "metadata": {},
   "outputs": [
    {
     "name": "stdout",
     "output_type": "stream",
     "text": [
      "[1] - AdaBoostClassifier classifier | accuracy: 0.24539877300613497\n",
      "[2] - RandomForestClassifier classifier | accuracy: 1.0\n",
      "[3] - KNeighborsClassifier classifier | accuracy: 0.9631901840490797\n",
      "[4] - MLPClassifier classifier | accuracy: 1.0\n",
      "[5] - DecisionTreeClassifier classifier | accuracy: 1.0\n",
      "[6] - SVC classifier | accuracy: 0.9877300613496932\n",
      "[7] - GradientBoostingClassifier classifier | accuracy: 1.0\n",
      "[8] - SGDClassifier classifier | accuracy: 1.0\n",
      "[9] - LogisticRegression classifier | accuracy: 1.0\n",
      "[10] - RidgeClassifier classifier | accuracy: 0.9754601226993865\n"
     ]
    }
   ],
   "source": [
    "classifiers = train_classifiers(remote_datasets)"
   ]
  },
  {
   "cell_type": "markdown",
   "metadata": {},
   "source": [
    "# Phase Three: Generate predictions to our local data set"
   ]
  },
  {
   "cell_type": "markdown",
   "metadata": {},
   "source": [
    "Now, we will use the trained classifiers to generate a set of labels on our local data set. As we can see, we obtain an array of numbers from zero to nine."
   ]
  },
  {
   "cell_type": "code",
   "execution_count": 74,
   "metadata": {},
   "outputs": [],
   "source": [
    "preds = generate_predictions(X, classifiers)"
   ]
  },
  {
   "cell_type": "code",
   "execution_count": 75,
   "metadata": {},
   "outputs": [
    {
     "data": {
      "text/plain": [
       "array([[1., 6., 6., ..., 6., 6., 6.],\n",
       "       [1., 9., 9., ..., 9., 9., 9.],\n",
       "       [1., 9., 9., ..., 9., 9., 9.],\n",
       "       ...,\n",
       "       [1., 6., 6., ..., 6., 6., 6.],\n",
       "       [1., 8., 2., ..., 2., 8., 9.],\n",
       "       [1., 3., 3., ..., 3., 3., 3.]])"
      ]
     },
     "execution_count": 75,
     "metadata": {},
     "output_type": "execute_result"
    }
   ],
   "source": [
    "preds"
   ]
  },
  {
   "cell_type": "markdown",
   "metadata": {},
   "source": [
    "Next, we will generate our labels using the Laplacian mechanism. In this setting, we choose epsilon to be 0.1."
   ]
  },
  {
   "cell_type": "code",
   "execution_count": 8,
   "metadata": {},
   "outputs": [],
   "source": [
    "new_labels = generate_labels(preds, epsilon = 0.1)"
   ]
  },
  {
   "cell_type": "code",
   "execution_count": 9,
   "metadata": {},
   "outputs": [
    {
     "data": {
      "text/plain": [
       "[2, 9, 3, 6, 4, 1, 4, 1, 6, 3]"
      ]
     },
     "execution_count": 9,
     "metadata": {},
     "output_type": "execute_result"
    }
   ],
   "source": [
    "new_labels[0:10]"
   ]
  },
  {
   "cell_type": "markdown",
   "metadata": {},
   "source": [
    "We now have our labels ready. In the next pahse we will create a custom network to use the generated labels."
   ]
  },
  {
   "cell_type": "markdown",
   "metadata": {},
   "source": [
    "# Phase Four: Define our Local Model"
   ]
  },
  {
   "cell_type": "markdown",
   "metadata": {},
   "source": [
    "We will use a neural network composed by three layers. This model will take as inputs the images in their vector form. To calculate the output we will use a softmax layer, where a logarithm is applied to smooth the resulting vector."
   ]
  },
  {
   "cell_type": "markdown",
   "metadata": {},
   "source": [
    "![](../plots/model_d20.png)"
   ]
  },
  {
   "cell_type": "markdown",
   "metadata": {},
   "source": [
    "```python\n",
    "class Net(nn.Module):\n",
    "    def __init__(self):\n",
    "        super().__init__()\n",
    "        self.fc1 = nn.Linear(64, 50)\n",
    "        self.fc2 = nn.Linear(50, 50)\n",
    "        self.output = nn.Linear(50, 10)\n",
    "    \n",
    "    def forward(self, x):\n",
    "        x = F.relu(self.fc1(x))\n",
    "        x = F.relu(self.fc2(x))\n",
    "        x = F.log_softmax(self.output(x), dim = 1)\n",
    "        return x\n",
    "```"
   ]
  },
  {
   "cell_type": "markdown",
   "metadata": {},
   "source": [
    "## Training"
   ]
  },
  {
   "cell_type": "markdown",
   "metadata": {},
   "source": [
    "Next, we will train our model. Here ADAM and NLLLoss are being used as optimizer and criterion. Also, for ADAM we set the learning rate to 0.01. Finally, this model will train for 50 epochs."
   ]
  },
  {
   "cell_type": "code",
   "execution_count": 10,
   "metadata": {},
   "outputs": [
    {
     "name": "stdout",
     "output_type": "stream",
     "text": [
      "Epoch: 1 | 50, loss: 2.44927716255188\n",
      "Epoch: 2 | 50, loss: 2.3585829734802246\n",
      "Epoch: 3 | 50, loss: 2.226154327392578\n",
      "Epoch: 4 | 50, loss: 2.1533164978027344\n",
      "Epoch: 5 | 50, loss: 2.09911847114563\n",
      "Epoch: 6 | 50, loss: 2.0479061603546143\n",
      "Epoch: 7 | 50, loss: 1.9901325702667236\n",
      "Epoch: 8 | 50, loss: 1.918312668800354\n",
      "Epoch: 9 | 50, loss: 1.838196039199829\n",
      "Epoch: 10 | 50, loss: 1.7651565074920654\n",
      "Epoch: 11 | 50, loss: 1.6951661109924316\n",
      "Epoch: 12 | 50, loss: 1.6280966997146606\n",
      "Epoch: 13 | 50, loss: 1.5513769388198853\n",
      "Epoch: 14 | 50, loss: 1.4773941040039062\n",
      "Epoch: 15 | 50, loss: 1.3933188915252686\n",
      "Epoch: 16 | 50, loss: 1.302552580833435\n",
      "Epoch: 17 | 50, loss: 1.2124255895614624\n",
      "Epoch: 18 | 50, loss: 1.132278561592102\n",
      "Epoch: 19 | 50, loss: 1.0592623949050903\n",
      "Epoch: 20 | 50, loss: 0.9800019264221191\n",
      "Epoch: 21 | 50, loss: 0.881312906742096\n",
      "Epoch: 22 | 50, loss: 0.7940284609794617\n",
      "Epoch: 23 | 50, loss: 0.7312641739845276\n",
      "Epoch: 24 | 50, loss: 0.6520299911499023\n",
      "Epoch: 25 | 50, loss: 0.5660293698310852\n",
      "Epoch: 26 | 50, loss: 0.4907359182834625\n",
      "Epoch: 27 | 50, loss: 0.4363655149936676\n",
      "Epoch: 28 | 50, loss: 0.3720136284828186\n",
      "Epoch: 29 | 50, loss: 0.3071385324001312\n",
      "Epoch: 30 | 50, loss: 0.25935202836990356\n",
      "Epoch: 31 | 50, loss: 0.22530609369277954\n",
      "Epoch: 32 | 50, loss: 0.17703744769096375\n",
      "Epoch: 33 | 50, loss: 0.14752040803432465\n",
      "Epoch: 34 | 50, loss: 0.11905606091022491\n",
      "Epoch: 35 | 50, loss: 0.09567965567111969\n",
      "Epoch: 36 | 50, loss: 0.07961476594209671\n",
      "Epoch: 37 | 50, loss: 0.06262492388486862\n",
      "Epoch: 38 | 50, loss: 0.051764264702796936\n",
      "Epoch: 39 | 50, loss: 0.03997724875807762\n",
      "Epoch: 40 | 50, loss: 0.03228704258799553\n",
      "Epoch: 41 | 50, loss: 0.026198629289865494\n",
      "Epoch: 42 | 50, loss: 0.021191125735640526\n",
      "Epoch: 43 | 50, loss: 0.01750655099749565\n",
      "Epoch: 44 | 50, loss: 0.01448616199195385\n",
      "Epoch: 45 | 50, loss: 0.012096336111426353\n",
      "Epoch: 46 | 50, loss: 0.010199010372161865\n",
      "Epoch: 47 | 50, loss: 0.008611051365733147\n",
      "Epoch: 48 | 50, loss: 0.007349074352532625\n",
      "Epoch: 49 | 50, loss: 0.006435240153223276\n",
      "Epoch: 50 | 50, loss: 0.005659963004291058\n"
     ]
    }
   ],
   "source": [
    "model = Net()\n",
    "# optimizer\n",
    "op = optim.Adam(model.parameters(), lr = 0.01)\n",
    "# criterion\n",
    "criterion = nn.NLLLoss()\n",
    "# convert labels\n",
    "labels = np.array(new_labels)\n",
    "ylabels = torch.tensor(labels.astype(float), requires_grad = True).long()\n",
    "# train\n",
    "model = train_model(model, X, ylabels, op, criterion, 50)"
   ]
  },
  {
   "cell_type": "markdown",
   "metadata": {},
   "source": [
    "## Calculate Accuracy"
   ]
  },
  {
   "cell_type": "code",
   "execution_count": 11,
   "metadata": {},
   "outputs": [
    {
     "name": "stdout",
     "output_type": "stream",
     "text": [
      "Accuracy: 1.0\n"
     ]
    },
    {
     "data": {
      "text/plain": [
       "1.0"
      ]
     },
     "execution_count": 11,
     "metadata": {},
     "output_type": "execute_result"
    }
   ],
   "source": [
    "calculate_accuracy(model, X, ylabels)"
   ]
  },
  {
   "cell_type": "markdown",
   "metadata": {},
   "source": [
    "# Phase Five: Experiment, varying epsilon"
   ]
  },
  {
   "cell_type": "markdown",
   "metadata": {},
   "source": [
    "In this phase, we will see how the different values of epsilon affect both: the accuracy over the real labels and the generated ones. For that purpose, we will define a set of epsilons to explore."
   ]
  },
  {
   "cell_type": "code",
   "execution_count": 12,
   "metadata": {},
   "outputs": [],
   "source": [
    "epsilons = [1e-5, 1e-4, 1e-3, 1e-2, 1e-1, 1, 1e+1, 1e+2, 10e+3]"
   ]
  },
  {
   "cell_type": "markdown",
   "metadata": {},
   "source": [
    "Now, we will train our local model from zero on the generated labels using 50 epochs. In this case we will made a single run."
   ]
  },
  {
   "cell_type": "code",
   "execution_count": 13,
   "metadata": {},
   "outputs": [
    {
     "name": "stdout",
     "output_type": "stream",
     "text": [
      "Epsilon: 1e-05 | Accuracy on real labels: 0.09580838323353294 | Accuracy on generated labels: 1.0\n",
      "Epsilon: 0.0001 | Accuracy on real labels: 0.12574850299401197 | Accuracy on generated labels: 1.0\n",
      "Epsilon: 0.001 | Accuracy on real labels: 0.09580838323353294 | Accuracy on generated labels: 1.0\n",
      "Epsilon: 0.01 | Accuracy on real labels: 0.1317365269461078 | Accuracy on generated labels: 0.9520958083832335\n",
      "Epsilon: 0.1 | Accuracy on real labels: 0.15568862275449102 | Accuracy on generated labels: 1.0\n",
      "Epsilon: 1 | Accuracy on real labels: 0.844311377245509 | Accuracy on generated labels: 1.0\n",
      "Epsilon: 10.0 | Accuracy on real labels: 0.9041916167664671 | Accuracy on generated labels: 1.0\n",
      "Epsilon: 100.0 | Accuracy on real labels: 0.8982035928143712 | Accuracy on generated labels: 1.0\n",
      "Epsilon: 10000.0 | Accuracy on real labels: 0.8922155688622755 | Accuracy on generated labels: 1.0\n"
     ]
    }
   ],
   "source": [
    "y_single, p_single = run_experiment(epsilons, X, y_true, preds, epochs = 50)"
   ]
  },
  {
   "cell_type": "markdown",
   "metadata": {},
   "source": [
    "We can see that, the more epsilon increases the more our model approaches the real labels. Next, lets repeat this experiment, but now, lets average the results using 20 runs."
   ]
  },
  {
   "cell_type": "code",
   "execution_count": 3,
   "metadata": {},
   "outputs": [
    {
     "data": {
      "text/plain": [
       "10000.0"
      ]
     },
     "execution_count": 3,
     "metadata": {},
     "output_type": "execute_result"
    }
   ],
   "source": [
    "10e+3"
   ]
  },
  {
   "cell_type": "code",
   "execution_count": 13,
   "metadata": {},
   "outputs": [
    {
     "name": "stdout",
     "output_type": "stream",
     "text": [
      "Epsilon: 1e-05 | Avg accuracy on real labels: 0.09940119760479042 | Avg Accuracy on generated labels: 0.9934131736526947\n",
      "Epsilon: 0.0001 | Avg accuracy on real labels: 0.09940119760479042 | Avg Accuracy on generated labels: 0.9991017964071857\n",
      "Epsilon: 0.001 | Avg accuracy on real labels: 0.10449101796407186 | Avg Accuracy on generated labels: 0.9994011976047904\n",
      "Epsilon: 0.01 | Avg accuracy on real labels: 0.11646706586826347 | Avg Accuracy on generated labels: 0.9934131736526947\n",
      "Epsilon: 0.1 | Avg accuracy on real labels: 0.21646706586826342 | Avg Accuracy on generated labels: 0.9979041916167665\n",
      "Epsilon: 1 | Avg accuracy on real labels: 0.9239520958083833 | Avg Accuracy on generated labels: 1.0\n",
      "Epsilon: 10.0 | Avg accuracy on real labels: 0.9497005988023954 | Avg Accuracy on generated labels: 1.0\n",
      "Epsilon: 100.0 | Avg accuracy on real labels: 0.9502994011976049 | Avg Accuracy on generated labels: 1.0\n",
      "Epsilon: 10000.0 | Avg accuracy on real labels: 0.9485029940119762 | Avg Accuracy on generated labels: 1.0\n"
     ]
    }
   ],
   "source": [
    "y_avg, p_avg = run_experiment_avg(epsilons, X, y_true, preds, average = 20, epochs = 50)"
   ]
  },
  {
   "cell_type": "markdown",
   "metadata": {},
   "source": [
    "Interesting, we see the same behavior. This correlates with the discuss of class about the trade-off of choosing a right value to epsilon. Finally, lets compare the results from a single and an average run."
   ]
  },
  {
   "cell_type": "code",
   "execution_count": 15,
   "metadata": {},
   "outputs": [
    {
     "data": {
      "image/png": "[encoded data removed]",
      "text/plain": [
       "<Figure size 1080x360 with 2 Axes>"
      ]
     },
     "metadata": {
      "needs_background": "light"
     },
     "output_type": "display_data"
    }
   ],
   "source": [
    "comparison_plot(epsilons, [y_single, p_single], [y_avg, p_avg], 'avg_comparison')"
   ]
  },
  {
   "cell_type": "markdown",
   "metadata": {},
   "source": [
    "As we can see, there is a point were we totally approximate the real values from the labels. Again, this suggest that, the value for epsilon must be careful considered when applying this mechanism."
   ]
  },
  {
   "cell_type": "markdown",
   "metadata": {},
   "source": [
    "# Phase six: Training classifiers multiple times"
   ]
  },
  {
   "cell_type": "markdown",
   "metadata": {},
   "source": [
    "From the previous results, we can conclude that, in fact, increasing epsilon will lead to data leaks. In this phase, we will give a last try to see if this is true. However, this time we will repeat the process training also the classifiers."
   ]
  },
  {
   "cell_type": "code",
   "execution_count": 14,
   "metadata": {},
   "outputs": [
    {
     "name": "stderr",
     "output_type": "stream",
     "text": [
      "/home/antonio/anaconda3/envs/dlnd/lib/python3.7/site-packages/sklearn/linear_model/logistic.py:947: ConvergenceWarning: lbfgs failed to converge. Increase the number of iterations.\n",
      "  \"of iterations.\", ConvergenceWarning)\n",
      "/home/antonio/anaconda3/envs/dlnd/lib/python3.7/site-packages/sklearn/linear_model/logistic.py:947: ConvergenceWarning: lbfgs failed to converge. Increase the number of iterations.\n",
      "  \"of iterations.\", ConvergenceWarning)\n",
      "/home/antonio/anaconda3/envs/dlnd/lib/python3.7/site-packages/sklearn/linear_model/logistic.py:947: ConvergenceWarning: lbfgs failed to converge. Increase the number of iterations.\n",
      "  \"of iterations.\", ConvergenceWarning)\n",
      "/home/antonio/anaconda3/envs/dlnd/lib/python3.7/site-packages/sklearn/linear_model/logistic.py:947: ConvergenceWarning: lbfgs failed to converge. Increase the number of iterations.\n",
      "  \"of iterations.\", ConvergenceWarning)\n",
      "/home/antonio/anaconda3/envs/dlnd/lib/python3.7/site-packages/sklearn/linear_model/logistic.py:947: ConvergenceWarning: lbfgs failed to converge. Increase the number of iterations.\n",
      "  \"of iterations.\", ConvergenceWarning)\n",
      "/home/antonio/anaconda3/envs/dlnd/lib/python3.7/site-packages/sklearn/linear_model/logistic.py:947: ConvergenceWarning: lbfgs failed to converge. Increase the number of iterations.\n",
      "  \"of iterations.\", ConvergenceWarning)\n",
      "/home/antonio/anaconda3/envs/dlnd/lib/python3.7/site-packages/sklearn/linear_model/logistic.py:947: ConvergenceWarning: lbfgs failed to converge. Increase the number of iterations.\n",
      "  \"of iterations.\", ConvergenceWarning)\n",
      "/home/antonio/anaconda3/envs/dlnd/lib/python3.7/site-packages/sklearn/linear_model/logistic.py:947: ConvergenceWarning: lbfgs failed to converge. Increase the number of iterations.\n",
      "  \"of iterations.\", ConvergenceWarning)\n",
      "/home/antonio/anaconda3/envs/dlnd/lib/python3.7/site-packages/sklearn/linear_model/logistic.py:947: ConvergenceWarning: lbfgs failed to converge. Increase the number of iterations.\n",
      "  \"of iterations.\", ConvergenceWarning)\n",
      "/home/antonio/anaconda3/envs/dlnd/lib/python3.7/site-packages/sklearn/linear_model/logistic.py:947: ConvergenceWarning: lbfgs failed to converge. Increase the number of iterations.\n",
      "  \"of iterations.\", ConvergenceWarning)\n"
     ]
    }
   ],
   "source": [
    "# Note: This could take a little longer\n",
    "training = 10 # train 10 different times\n",
    "for train in range(training):\n",
    "    classifiers = train_classifiers(remote_datasets, print_results = False)\n",
    "    preds = generate_predictions(X, classifiers)\n",
    "    y_single, p_single = run_experiment(epsilons, X, y_true, preds, epochs = 50, print_results = False)\n",
    "    y_avg, p_avg = run_experiment_avg(epsilons, X, y_true, preds, average = 20, epochs = 50, print_results = False)"
   ]
  },
  {
   "cell_type": "code",
   "execution_count": 15,
   "metadata": {},
   "outputs": [
    {
     "data": {
      "image/png": "[encoded data removed]",
      "text/plain": [
       "<Figure size 1080x360 with 2 Axes>"
      ]
     },
     "metadata": {
      "needs_background": "light"
     },
     "output_type": "display_data"
    }
   ],
   "source": [
    "# Plot time\n",
    "comparison_plot(epsilons, [y_single, p_single], [y_avg, p_avg], 'classifiers_comparison')"
   ]
  },
  {
   "cell_type": "markdown",
   "metadata": {},
   "source": [
    "Well, even training the classifier each time, it seems that, the results are quite similar. However, I think this is related with the size of the data set (it is quite smaller). I theorize that in with bigger data, we could observe some changes here."
   ]
  },
  {
   "cell_type": "markdown",
   "metadata": {},
   "source": [
    "# Phase seven: PATE Analysis"
   ]
  },
  {
   "cell_type": "markdown",
   "metadata": {},
   "source": [
    "In this section, we will apply the PATE analysis over the generated labels."
   ]
  },
  {
   "cell_type": "code",
   "execution_count": 16,
   "metadata": {},
   "outputs": [
    {
     "name": "stderr",
     "output_type": "stream",
     "text": [
      "WARNING:tf_encrypted:Falling back to insecure randomness since the required custom op could not be found for the installed version of TensorFlow (1.13.1). Fix this by compiling custom ops.\n"
     ]
    }
   ],
   "source": [
    "from syft.frameworks.torch.differential_privacy import pate"
   ]
  },
  {
   "cell_type": "markdown",
   "metadata": {},
   "source": [
    "## Varying delta"
   ]
  },
  {
   "cell_type": "code",
   "execution_count": 126,
   "metadata": {},
   "outputs": [
    {
     "data": {
      "text/plain": [
       "(15.776462732485108, 15.776462732485115)"
      ]
     },
     "execution_count": 126,
     "metadata": {},
     "output_type": "execute_result"
    }
   ],
   "source": [
    "# Note that, this section needs the preds result from the Phase Three: Generate predictions to our local data set\n",
    "pate.perform_analysis(teacher_preds = preds.T.astype(int), indices = y_true.numpy().astype(int), noise_eps = .1, delta = 1e-5)"
   ]
  },
  {
   "cell_type": "code",
   "execution_count": 127,
   "metadata": {},
   "outputs": [
    {
     "data": {
      "text/plain": [
       "(16.927755278982133, 16.92775527898214)"
      ]
     },
     "execution_count": 127,
     "metadata": {},
     "output_type": "execute_result"
    }
   ],
   "source": [
    "# Note that, this section needs the preds result from the Phase Three: Generate predictions to our local data set\n",
    "pate.perform_analysis(teacher_preds = preds.T.astype(int), indices = y_true.numpy().astype(int), noise_eps = .1, delta = 1e-6)"
   ]
  },
  {
   "cell_type": "code",
   "execution_count": 128,
   "metadata": {},
   "outputs": [
    {
     "data": {
      "text/plain": [
       "(18.079047825479154, 18.07904782547916)"
      ]
     },
     "execution_count": 128,
     "metadata": {},
     "output_type": "execute_result"
    }
   ],
   "source": [
    "# Note that, this section needs the preds result from the Phase Three: Generate predictions to our local data set\n",
    "pate.perform_analysis(teacher_preds = preds.T.astype(int), indices = y_true.numpy().astype(int), noise_eps = .1, delta = 1e-7)"
   ]
  },
  {
   "cell_type": "markdown",
   "metadata": {},
   "source": [
    "We can see how the results vary with each change in delta."
   ]
  },
  {
   "cell_type": "markdown",
   "metadata": {},
   "source": [
    "## Varying predictions"
   ]
  },
  {
   "cell_type": "markdown",
   "metadata": {},
   "source": [
    "In the lesson we also see that some changes in the values from the predictions can affect the results."
   ]
  },
  {
   "cell_type": "code",
   "execution_count": 129,
   "metadata": {},
   "outputs": [
    {
     "data": {
      "text/plain": [
       "(11.756462732485105, 11.756462732485115)"
      ]
     },
     "execution_count": 129,
     "metadata": {},
     "output_type": "execute_result"
    }
   ],
   "source": [
    "# pate analysis with 100 teachers\n",
    "num_teachers, num_examples, num_labels = (100, 100, 10)\n",
    "p = (np.random.rand(num_teachers, num_examples) * num_labels).astype(int)\n",
    "indices = (np.random.rand(num_examples) * num_labels).astype(int)\n",
    "pate.perform_analysis(teacher_preds = p, indices = indices, noise_eps = .1, delta = 1e-5)"
   ]
  },
  {
   "cell_type": "code",
   "execution_count": 130,
   "metadata": {},
   "outputs": [
    {
     "data": {
      "text/plain": [
       "(8.42373882359225, 11.756462732485115)"
      ]
     },
     "execution_count": 130,
     "metadata": {},
     "output_type": "execute_result"
    }
   ],
   "source": [
    "# changing predictions, this will have an impact over epsilon\n",
    "p[:, 0:5] *= 0\n",
    "pate.perform_analysis(teacher_preds = p, indices = indices, noise_eps = .1, delta = 1e-5)"
   ]
  },
  {
   "cell_type": "markdown",
   "metadata": {},
   "source": [
    "Here, we will change our prediction and see the results."
   ]
  },
  {
   "cell_type": "code",
   "execution_count": 131,
   "metadata": {},
   "outputs": [],
   "source": [
    "# Change the values from two teachers to the class 0\n",
    "preds[:, 5: 7] = 0"
   ]
  },
  {
   "cell_type": "code",
   "execution_count": 132,
   "metadata": {},
   "outputs": [
    {
     "data": {
      "text/plain": [
       "(15.776462732485108, 15.776462732485115)"
      ]
     },
     "execution_count": 132,
     "metadata": {},
     "output_type": "execute_result"
    }
   ],
   "source": [
    "# next, lets repeat the pate analysis\n",
    "pate.perform_analysis(teacher_preds = preds.T.astype(int), indices = y_true.numpy().astype(int), noise_eps = .1, delta = 1e-5)"
   ]
  },
  {
   "cell_type": "code",
   "execution_count": 133,
   "metadata": {},
   "outputs": [
    {
     "data": {
      "text/plain": [
       "(16.927755278982133, 16.92775527898214)"
      ]
     },
     "execution_count": 133,
     "metadata": {},
     "output_type": "execute_result"
    }
   ],
   "source": [
    "# Note that, this section needs the preds result from the Phase Three: Generate predictions to our local data set\n",
    "pate.perform_analysis(teacher_preds = preds.T.astype(int), indices = y_true.numpy().astype(int), noise_eps = .1, delta = 1e-6)"
   ]
  },
  {
   "cell_type": "code",
   "execution_count": 134,
   "metadata": {},
   "outputs": [
    {
     "data": {
      "text/plain": [
       "(18.079047825479154, 18.07904782547916)"
      ]
     },
     "execution_count": 134,
     "metadata": {},
     "output_type": "execute_result"
    }
   ],
   "source": [
    "# Note that, this section needs the preds result from the Phase Three: Generate predictions to our local data set\n",
    "pate.perform_analysis(teacher_preds = preds.T.astype(int), indices = y_true.numpy().astype(int), noise_eps = .1, delta = 1e-7)"
   ]
  },
  {
   "cell_type": "markdown",
   "metadata": {},
   "source": [
    "The results here do not shown any change in epsilons (dependent and independent). However if we run this experiment using the code from class, we get the desired behavior."
   ]
  },
  {
   "cell_type": "markdown",
   "metadata": {},
   "source": [
    "## Varying the number of teachers"
   ]
  },
  {
   "cell_type": "markdown",
   "metadata": {},
   "source": [
    "So, why our epsilon vairs have too small variations?. The answer lies in the number of teahcers. Since in this example we are using 100 teachers, varying the results in the prediction will greatly affect the results. However if we set the teacher to 10 (as in our project), the resuling epsilons will not change."
   ]
  },
  {
   "cell_type": "code",
   "execution_count": 135,
   "metadata": {},
   "outputs": [],
   "source": [
    "# Using 10 teachers\n",
    "num_teachers, num_examples, num_labels = (10, 100, 10)\n",
    "p = (np.random.rand(num_teachers, num_examples) * num_labels).astype(int)\n",
    "indices = (np.random.rand(num_examples) * num_labels).astype(int)"
   ]
  },
  {
   "cell_type": "code",
   "execution_count": 136,
   "metadata": {},
   "outputs": [
    {
     "data": {
      "text/plain": [
       "(11.756462732485105, 11.756462732485115)"
      ]
     },
     "execution_count": 136,
     "metadata": {},
     "output_type": "execute_result"
    }
   ],
   "source": [
    "pate.perform_analysis(teacher_preds = p, indices = indices, noise_eps = .1, delta = 1e-5)"
   ]
  },
  {
   "cell_type": "code",
   "execution_count": 137,
   "metadata": {},
   "outputs": [
    {
     "data": {
      "text/plain": [
       "(11.756462732485105, 11.756462732485115)"
      ]
     },
     "execution_count": 137,
     "metadata": {},
     "output_type": "execute_result"
    }
   ],
   "source": [
    "p[:, 0:5] *= 0\n",
    "pate.perform_analysis(teacher_preds = p, indices = indices, noise_eps = .1, delta = 1e-5)"
   ]
  },
  {
   "cell_type": "markdown",
   "metadata": {},
   "source": [
    "# Conclusions"
   ]
  },
  {
   "cell_type": "markdown",
   "metadata": {},
   "source": [
    "This project have been very interesting, not only it allow me to implement the concepts from the Lessons. But also help me to understand the process of applying DP in a data set. I think that, in a scenario with more data, these results can vary. However, this techniques can guarantee the privacy of the data, independently of the data size. Although I observed some different behaviors from the PATE analysis. I was able to see the relationship between the number of teachers and sensitivity in the PATE analysis. Finally, I will continue working on this project, adding more privacy techniques."
   ]
  },
  {
   "cell_type": "code",
   "execution_count": null,
   "metadata": {},
   "outputs": [],
   "source": []
  }
 ],
 "metadata": {
  "kernelspec": {
   "display_name": "Python 3",
   "language": "python",
   "name": "python3"
  },
  "language_info": {
   "codemirror_mode": {
    "name": "ipython",
    "version": 3
   },
   "file_extension": ".py",
   "mimetype": "text/x-python",
   "name": "python",
   "nbconvert_exporter": "python",
   "pygments_lexer": "ipython3",
   "version": "3.7.2"
  }
 },
 "nbformat": 4,
 "nbformat_minor": 2
}
