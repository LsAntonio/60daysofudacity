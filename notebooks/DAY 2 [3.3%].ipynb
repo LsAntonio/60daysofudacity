{
 "cells": [
  {
   "cell_type": "markdown",
   "metadata": {},
   "source": [
    "# DAY 2 [3.3%]"
   ]
  },
  {
   "cell_type": "markdown",
   "metadata": {},
   "source": [
    "# Project - 02: Generate Parallel Databases | Lesson 3\n",
    "Create a function, which can create a database and create other 5000, each with one person missing."
   ]
  },
  {
   "cell_type": "code",
   "execution_count": 3,
   "metadata": {},
   "outputs": [
    {
     "data": {
      "text/plain": [
       "<torch._C.Generator at 0x7f208b8d7750>"
      ]
     },
     "execution_count": 3,
     "metadata": {},
     "output_type": "execute_result"
    }
   ],
   "source": [
    "import matplotlib.pyplot as plt\n",
    "import seaborn as sns\n",
    "sns.set()\n",
    "import torch\n",
    "torch.manual_seed(0)"
   ]
  },
  {
   "cell_type": "code",
   "execution_count": 4,
   "metadata": {},
   "outputs": [],
   "source": [
    "%matplotlib inline"
   ]
  },
  {
   "cell_type": "code",
   "execution_count": 11,
   "metadata": {},
   "outputs": [],
   "source": [
    "def create_databases(p, num_entries, num_databases):\n",
    "    \"\"\"\n",
    "    This function create a number of databases from db,\n",
    "    where each new database has one missing row (element).\n",
    "    \n",
    "    params:\n",
    "    ------\n",
    "    \n",
    "    p             -- Probability for the database.\n",
    "    num_entries   -- Number of entries in the original db.\n",
    "    num_databases -- Number of database to create.\n",
    "    \n",
    "    returns\n",
    "    -------\n",
    "    num_databases\n",
    "    \"\"\"\n",
    "    assert num_entries == num_databases, 'Total entries {} different from total DB {}'.format(num_entries, num_databases)\n",
    "    databases = []\n",
    "    db = torch.rand(num_entries) > p\n",
    "    for k in range(0, num_databases):\n",
    "        databases.append(torch.cat([db[:k], db[k+1:]]))\n",
    "    return db, databases"
   ]
  },
  {
   "cell_type": "code",
   "execution_count": 19,
   "metadata": {},
   "outputs": [],
   "source": [
    "def plot_databases(data):\n",
    "    \"\"\"\n",
    "    Plots the data density of two dbs.\n",
    "    \n",
    "    params:\n",
    "    ---------\n",
    "    data      -- A list contaning only two dbs\n",
    "    \n",
    "    returns:\n",
    "    --------\n",
    "    A plot.\n",
    "    \"\"\"\n",
    "    fig, arr = plt.subplots(1, 2, figsize = (15, 5))\n",
    "    arr[0].set_title('Data distribution with p=0.5')\n",
    "    arr[1].set_title('Data distribution with p=0.7')\n",
    "    sns.distplot(data[0], ax=arr[0])\n",
    "    sns.distplot(data[1], ax=arr[1])\n",
    "    fig.savefig('./plots/figure_2d.png', format = 'png', dpi = 250, bbox_inches = 'tight')"
   ]
  },
  {
   "cell_type": "code",
   "execution_count": 20,
   "metadata": {},
   "outputs": [
    {
     "data": {
      "image/png": "[encoded data removed]",
      "text/plain": [
       "<Figure size 1080x360 with 2 Axes>"
      ]
     },
     "metadata": {
      "needs_background": "light"
     },
     "output_type": "display_data"
    }
   ],
   "source": [
    "db1 = create_databases(p = 0.5, num_entries = 5000, num_databases = 5000)\n",
    "db2 = create_databases(p = 0.7, num_entries = 5000, num_databases = 5000)\n",
    "plot_databases([db1[0], db2[0]])"
   ]
  },
  {
   "cell_type": "markdown",
   "metadata": {},
   "source": [
    "Final implementation"
   ]
  },
  {
   "cell_type": "code",
   "execution_count": 12,
   "metadata": {},
   "outputs": [],
   "source": [
    "def create_db_and_parallels(p, num_entries):\n",
    "    \"\"\"\n",
    "    Final function, which creates a db and parallels databases,\n",
    "    using the function defined above.\n",
    "    \n",
    "    params:\n",
    "    ------\n",
    "    p            -- Data probability distribution.\n",
    "    num_entries  -- Number of rows|samples.\n",
    "    \n",
    "    returns:\n",
    "    -------\n",
    "    db           -- Original database.\n",
    "    databases    -- List of databases.\n",
    "    \"\"\"\n",
    "    db, databases = create_databases(p, num_entries, num_entries)\n",
    "    return db, databases"
   ]
  },
  {
   "cell_type": "code",
   "execution_count": 13,
   "metadata": {},
   "outputs": [],
   "source": [
    "db, databases = create_db_and_parallels(0.5, 5000)"
   ]
  },
  {
   "cell_type": "code",
   "execution_count": 14,
   "metadata": {},
   "outputs": [
    {
     "data": {
      "text/plain": [
       "tensor([1, 0, 0,  ..., 0, 0, 0], dtype=torch.uint8)"
      ]
     },
     "execution_count": 14,
     "metadata": {},
     "output_type": "execute_result"
    }
   ],
   "source": [
    "db"
   ]
  },
  {
   "cell_type": "code",
   "execution_count": 15,
   "metadata": {},
   "outputs": [
    {
     "data": {
      "text/plain": [
       "5000"
      ]
     },
     "execution_count": 15,
     "metadata": {},
     "output_type": "execute_result"
    }
   ],
   "source": [
    "# check databases\n",
    "len(databases)"
   ]
  },
  {
   "cell_type": "code",
   "execution_count": 16,
   "metadata": {},
   "outputs": [
    {
     "data": {
      "text/plain": [
       "tensor([1, 0, 1,  ..., 0, 0, 0], dtype=torch.uint8)"
      ]
     },
     "execution_count": 16,
     "metadata": {},
     "output_type": "execute_result"
    }
   ],
   "source": [
    "# explore the first database\n",
    "databases[1]"
   ]
  },
  {
   "cell_type": "code",
   "execution_count": null,
   "metadata": {},
   "outputs": [],
   "source": []
  }
 ],
 "metadata": {
  "kernelspec": {
   "display_name": "Python 3",
   "language": "python",
   "name": "python3"
  },
  "language_info": {
   "codemirror_mode": {
    "name": "ipython",
    "version": 3
   },
   "file_extension": ".py",
   "mimetype": "text/x-python",
   "name": "python",
   "nbconvert_exporter": "python",
   "pygments_lexer": "ipython3",
   "version": "3.7.2"
  }
 },
 "nbformat": 4,
 "nbformat_minor": 2
}
