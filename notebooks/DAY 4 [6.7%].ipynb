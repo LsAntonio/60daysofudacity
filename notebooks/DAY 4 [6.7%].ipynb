{
 "cells": [
  {
   "cell_type": "markdown",
   "metadata": {},
   "source": [
    "# DAY 4 [6.7%] | 60"
   ]
  },
  {
   "cell_type": "markdown",
   "metadata": {},
   "source": [
    "## Project: Evaluating The Privacy Of A Function"
   ]
  },
  {
   "cell_type": "code",
   "execution_count": 1,
   "metadata": {},
   "outputs": [
    {
     "data": {
      "text/plain": [
       "<torch._C.Generator at 0x7f555c212850>"
      ]
     },
     "execution_count": 1,
     "metadata": {},
     "output_type": "execute_result"
    }
   ],
   "source": [
    "import torch\n",
    "torch.manual_seed(0)"
   ]
  },
  {
   "cell_type": "code",
   "execution_count": 2,
   "metadata": {},
   "outputs": [],
   "source": [
    "def create_databases(p, num_entries, num_databases):\n",
    "    \"\"\"\n",
    "    This function create a number of databases from db,\n",
    "    where each new database has one missing row (element).\n",
    "    \n",
    "    params:\n",
    "    ------\n",
    "    \n",
    "    p             -- Probability for the database.\n",
    "    num_entries   -- Number of entries in the original db.\n",
    "    num_databases -- Number of database to create.\n",
    "    \n",
    "    returns\n",
    "    -------\n",
    "    num_databases\n",
    "    \"\"\"\n",
    "    assert num_entries == num_databases, 'Total entries {} different from total DB {}'.format(num_entries, num_databases)\n",
    "    databases = []\n",
    "    db = torch.rand(num_entries) > p\n",
    "    for k in range(0, num_databases):\n",
    "        databases.append(torch.cat([db[:k], db[k+1:]]))\n",
    "    return db, databases"
   ]
  },
  {
   "cell_type": "code",
   "execution_count": 3,
   "metadata": {},
   "outputs": [],
   "source": [
    "def create_db_and_parallels(p, num_entries):\n",
    "    \"\"\"\n",
    "    Final function, which creates a db and parallels databases,\n",
    "    using the function defined above.\n",
    "    \n",
    "    params:\n",
    "    ------\n",
    "    p            -- Data probability distribution.\n",
    "    num_entries  -- Number of rows|samples.\n",
    "    \n",
    "    returns:\n",
    "    -------\n",
    "    db           -- Original database.\n",
    "    databases    -- List of databases.\n",
    "    \"\"\"\n",
    "    db, databases = create_databases(p, num_entries, num_entries)\n",
    "    return db, databases"
   ]
  },
  {
   "cell_type": "code",
   "execution_count": 4,
   "metadata": {},
   "outputs": [],
   "source": [
    "def query(db):\n",
    "    \"\"\"\n",
    "    Apply a sum query over the database.\n",
    "    \n",
    "    params:\n",
    "    ------\n",
    "    db      -- A db containing a single feature.\n",
    "    returns:\n",
    "    -------\n",
    "    Application of the sum query.\n",
    "    \"\"\"\n",
    "    return db.sum()"
   ]
  },
  {
   "cell_type": "code",
   "execution_count": 5,
   "metadata": {},
   "outputs": [],
   "source": [
    "# create the data bases\n",
    "db, databases = create_db_and_parallels(p = 0.5, num_entries = 5000)"
   ]
  },
  {
   "cell_type": "code",
   "execution_count": 6,
   "metadata": {},
   "outputs": [
    {
     "data": {
      "text/plain": [
       "tensor(2471)"
      ]
     },
     "execution_count": 6,
     "metadata": {},
     "output_type": "execute_result"
    }
   ],
   "source": [
    "# apply a query on a single db\n",
    "full_query_db = query(db)\n",
    "full_query_db"
   ]
  },
  {
   "cell_type": "code",
   "execution_count": 7,
   "metadata": {},
   "outputs": [],
   "source": [
    "# calculate the sensitivity of the db and databases\n",
    "sensitivity = 0\n",
    "for pdb in databases:\n",
    "    pbd_result = query(pdb)\n",
    "    db_distance = torch.abs(pbd_result - full_query_db) #L1 sensitity\n",
    "    if db_distance >sensitivity:\n",
    "        sensitivity = db_distance"
   ]
  },
  {
   "cell_type": "code",
   "execution_count": 8,
   "metadata": {},
   "outputs": [
    {
     "data": {
      "text/plain": [
       "tensor(1)"
      ]
     },
     "execution_count": 8,
     "metadata": {},
     "output_type": "execute_result"
    }
   ],
   "source": [
    "sensitivity"
   ]
  },
  {
   "cell_type": "code",
   "execution_count": 9,
   "metadata": {},
   "outputs": [],
   "source": [
    "def sensitivity(query, n_entries):\n",
    "    \"\"\"\n",
    "    Calculates the sensitivity of a database.\n",
    "    \n",
    "    params:\n",
    "    ------\n",
    "    query      -- A query function.\n",
    "    n_entries  -- Total entries in the db.\n",
    "    \n",
    "    returns:\n",
    "    -------\n",
    "    Sensitivity\n",
    "    \"\"\"\n",
    "    # Initialize a database and parallel databases\n",
    "    db, databases = create_db_and_parallels(n_entries)\n",
    "    # run query over the original db\n",
    "    full_query_db = query(db)\n",
    "    # run query over the databases\n",
    "    sensitivity = 0\n",
    "    \n",
    "    for pdb in databases:\n",
    "        pbd_result = query(pdb)\n",
    "        db_distance = torch.abs(pbd_result - full_query_db) #L1 sensitity\n",
    "        if db_distance > sensitivity:\n",
    "            sensitivity = db_distance\n",
    "    return sensitivity"
   ]
  },
  {
   "cell_type": "code",
   "execution_count": null,
   "metadata": {},
   "outputs": [],
   "source": []
  }
 ],
 "metadata": {
  "kernelspec": {
   "display_name": "Python 3",
   "language": "python",
   "name": "python3"
  },
  "language_info": {
   "codemirror_mode": {
    "name": "ipython",
    "version": 3
   },
   "file_extension": ".py",
   "mimetype": "text/x-python",
   "name": "python",
   "nbconvert_exporter": "python",
   "pygments_lexer": "ipython3",
   "version": "3.7.2"
  }
 },
 "nbformat": 4,
 "nbformat_minor": 2
}
