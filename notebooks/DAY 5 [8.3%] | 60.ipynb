{
 "cells": [
  {
   "cell_type": "markdown",
   "metadata": {},
   "source": [
    "# DAY 5 [8.3%] | 60"
   ]
  },
  {
   "cell_type": "markdown",
   "metadata": {},
   "source": [
    "## Project: Evaluating The Privacy Of A Function on the Iris Data set"
   ]
  },
  {
   "cell_type": "code",
   "execution_count": 1,
   "metadata": {},
   "outputs": [
    {
     "data": {
      "text/plain": [
       "<torch._C.Generator at 0x7fdfa10cf850>"
      ]
     },
     "execution_count": 1,
     "metadata": {},
     "output_type": "execute_result"
    }
   ],
   "source": [
    "from sklearn.datasets import load_iris\n",
    "import torch\n",
    "torch.manual_seed(0)"
   ]
  },
  {
   "cell_type": "code",
   "execution_count": 2,
   "metadata": {},
   "outputs": [],
   "source": [
    "iris_data = load_iris().data"
   ]
  },
  {
   "cell_type": "code",
   "execution_count": 3,
   "metadata": {},
   "outputs": [],
   "source": [
    "def create_parallel(data):\n",
    "    \"\"\"\n",
    "    Creates a parallel database from a single data feature.\n",
    "    \n",
    "    params:\n",
    "    ------\n",
    "    data      -- Single feature\n",
    "    \n",
    "    returns:\n",
    "    databases -- List of databases with one element missing.\n",
    "    \"\"\"\n",
    "    databases = list()\n",
    "    data = torch.from_numpy(data)\n",
    "    for k in range(0, data.shape[0]):\n",
    "        databases.append(torch.cat([data[:k], data[k+1:]]))\n",
    "    return databases"
   ]
  },
  {
   "cell_type": "code",
   "execution_count": 4,
   "metadata": {},
   "outputs": [],
   "source": [
    "def query(db):\n",
    "    \"\"\"\n",
    "    Apply a sum query over the database.\n",
    "    \n",
    "    params:\n",
    "    ------\n",
    "    db      -- A db containing a single feature.\n",
    "    returns:\n",
    "    -------\n",
    "    Application of the sum query.\n",
    "    \"\"\"\n",
    "    return db.sum()"
   ]
  },
  {
   "cell_type": "code",
   "execution_count": 5,
   "metadata": {},
   "outputs": [],
   "source": [
    "def get_sensitivity(data, databases, query):\n",
    "    \"\"\"\n",
    "    Calculates the sensitivity of a feature.\n",
    "    \n",
    "    params:\n",
    "    ------\n",
    "    data       -- Original data.\n",
    "    databases  -- List of databases.\n",
    "    query      -- A query function to perform.\n",
    "    \n",
    "    returns:\n",
    "    -------\n",
    "    Sensitivity\n",
    "    \"\"\"\n",
    "    # run query over the original db\n",
    "    full_query_db = query(data)\n",
    "    # run query over the databases\n",
    "    sensitivity = 0\n",
    "    \n",
    "    for pdb in databases:\n",
    "        pbd_result = query(pdb)\n",
    "        db_distance = torch.abs(pbd_result - full_query_db) #L1 sensitity\n",
    "        if db_distance > sensitivity:\n",
    "            sensitivity = db_distance\n",
    "    return sensitivity"
   ]
  },
  {
   "cell_type": "code",
   "execution_count": 6,
   "metadata": {},
   "outputs": [],
   "source": [
    "iris_f1 = create_parallel(iris_data[:, 0])\n",
    "iris_f2 = create_parallel(iris_data[:, 1])\n",
    "iris_f3 = create_parallel(iris_data[:, 2])\n",
    "iris_f4 = create_parallel(iris_data[:, 3])"
   ]
  },
  {
   "cell_type": "code",
   "execution_count": 7,
   "metadata": {},
   "outputs": [
    {
     "data": {
      "text/plain": [
       "tensor(7.9000, dtype=torch.float64)"
      ]
     },
     "execution_count": 7,
     "metadata": {},
     "output_type": "execute_result"
    }
   ],
   "source": [
    "get_sensitivity(iris_data[:, 0], iris_f1, query)"
   ]
  },
  {
   "cell_type": "code",
   "execution_count": 8,
   "metadata": {},
   "outputs": [
    {
     "data": {
      "text/plain": [
       "tensor(4.4000, dtype=torch.float64)"
      ]
     },
     "execution_count": 8,
     "metadata": {},
     "output_type": "execute_result"
    }
   ],
   "source": [
    "get_sensitivity(iris_data[:, 1], iris_f2, query)"
   ]
  },
  {
   "cell_type": "code",
   "execution_count": 9,
   "metadata": {},
   "outputs": [
    {
     "data": {
      "text/plain": [
       "tensor(6.9000, dtype=torch.float64)"
      ]
     },
     "execution_count": 9,
     "metadata": {},
     "output_type": "execute_result"
    }
   ],
   "source": [
    "get_sensitivity(iris_data[:, 2], iris_f3, query)"
   ]
  },
  {
   "cell_type": "code",
   "execution_count": 10,
   "metadata": {},
   "outputs": [
    {
     "data": {
      "text/plain": [
       "tensor(2.5000, dtype=torch.float64)"
      ]
     },
     "execution_count": 10,
     "metadata": {},
     "output_type": "execute_result"
    }
   ],
   "source": [
    "get_sensitivity(iris_data[:, 3], iris_f4, query)"
   ]
  },
  {
   "cell_type": "code",
   "execution_count": null,
   "metadata": {},
   "outputs": [],
   "source": []
  }
 ],
 "metadata": {
  "kernelspec": {
   "display_name": "Python 3",
   "language": "python",
   "name": "python3"
  },
  "language_info": {
   "codemirror_mode": {
    "name": "ipython",
    "version": 3
   },
   "file_extension": ".py",
   "mimetype": "text/x-python",
   "name": "python",
   "nbconvert_exporter": "python",
   "pygments_lexer": "ipython3",
   "version": "3.7.2"
  }
 },
 "nbformat": 4,
 "nbformat_minor": 2
}
